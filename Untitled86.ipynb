{
  "nbformat": 4,
  "nbformat_minor": 0,
  "metadata": {
    "colab": {
      "provenance": [],
      "authorship_tag": "ABX9TyMMxpAQThLoFctRdZUJPHVW",
      "include_colab_link": true
    },
    "kernelspec": {
      "name": "python3",
      "display_name": "Python 3"
    },
    "language_info": {
      "name": "python"
    }
  },
  "cells": [
    {
      "cell_type": "markdown",
      "metadata": {
        "id": "view-in-github",
        "colab_type": "text"
      },
      "source": [
        "<a href=\"https://colab.research.google.com/github/jeongheonmin/web1/blob/main/Untitled86.ipynb\" target=\"_parent\"><img src=\"https://colab.research.google.com/assets/colab-badge.svg\" alt=\"Open In Colab\"/></a>"
      ]
    },
    {
      "cell_type": "code",
      "execution_count": 1,
      "metadata": {
        "colab": {
          "base_uri": "https://localhost:8080/",
          "height": 437
        },
        "id": "rXWQEShsO5rp",
        "outputId": "42d17746-836a-4779-c5b5-34be4b199aef"
      },
      "outputs": [
        {
          "output_type": "stream",
          "name": "stdout",
          "text": [
            "전원이 꺼져있습니다.\n"
          ]
        },
        {
          "output_type": "error",
          "ename": "KeyboardInterrupt",
          "evalue": "ignored",
          "traceback": [
            "\u001b[0;31m---------------------------------------------------------------------------\u001b[0m",
            "\u001b[0;31mKeyboardInterrupt\u001b[0m                         Traceback (most recent call last)",
            "\u001b[0;32m<ipython-input-1-5006dbc1e8dd>\u001b[0m in \u001b[0;36m<cell line: 69>\u001b[0;34m()\u001b[0m\n\u001b[1;32m     71\u001b[0m \u001b[0;32melse\u001b[0m\u001b[0;34m:\u001b[0m\u001b[0;34m\u001b[0m\u001b[0;34m\u001b[0m\u001b[0m\n\u001b[1;32m     72\u001b[0m   \u001b[0mprint\u001b[0m\u001b[0;34m(\u001b[0m\u001b[0;34m\"전원이 꺼져있습니다.\"\u001b[0m\u001b[0;34m)\u001b[0m\u001b[0;34m\u001b[0m\u001b[0;34m\u001b[0m\u001b[0m\n\u001b[0;32m---> 73\u001b[0;31m   \u001b[0mpower\u001b[0m \u001b[0;34m=\u001b[0m \u001b[0mint\u001b[0m\u001b[0;34m(\u001b[0m\u001b[0minput\u001b[0m\u001b[0;34m(\u001b[0m\u001b[0;34m\"press [1] to turn on the Power \"\u001b[0m\u001b[0;34m)\u001b[0m\u001b[0;34m)\u001b[0m\u001b[0;34m\u001b[0m\u001b[0;34m\u001b[0m\u001b[0m\n\u001b[0m\u001b[1;32m     74\u001b[0m   \u001b[0;32mif\u001b[0m \u001b[0mpower\u001b[0m \u001b[0;34m==\u001b[0m \u001b[0;36m1\u001b[0m\u001b[0;34m:\u001b[0m\u001b[0;34m\u001b[0m\u001b[0;34m\u001b[0m\u001b[0m\n\u001b[1;32m     75\u001b[0m     \u001b[0mprint\u001b[0m\u001b[0;34m(\u001b[0m\u001b[0;34m\"Welcome\"\u001b[0m\u001b[0;34m)\u001b[0m\u001b[0;34m\u001b[0m\u001b[0;34m\u001b[0m\u001b[0m\n",
            "\u001b[0;32m/usr/local/lib/python3.10/dist-packages/ipykernel/kernelbase.py\u001b[0m in \u001b[0;36mraw_input\u001b[0;34m(self, prompt)\u001b[0m\n\u001b[1;32m    849\u001b[0m                 \u001b[0;34m\"raw_input was called, but this frontend does not support input requests.\"\u001b[0m\u001b[0;34m\u001b[0m\u001b[0;34m\u001b[0m\u001b[0m\n\u001b[1;32m    850\u001b[0m             )\n\u001b[0;32m--> 851\u001b[0;31m         return self._input_request(str(prompt),\n\u001b[0m\u001b[1;32m    852\u001b[0m             \u001b[0mself\u001b[0m\u001b[0;34m.\u001b[0m\u001b[0m_parent_ident\u001b[0m\u001b[0;34m,\u001b[0m\u001b[0;34m\u001b[0m\u001b[0;34m\u001b[0m\u001b[0m\n\u001b[1;32m    853\u001b[0m             \u001b[0mself\u001b[0m\u001b[0;34m.\u001b[0m\u001b[0m_parent_header\u001b[0m\u001b[0;34m,\u001b[0m\u001b[0;34m\u001b[0m\u001b[0;34m\u001b[0m\u001b[0m\n",
            "\u001b[0;32m/usr/local/lib/python3.10/dist-packages/ipykernel/kernelbase.py\u001b[0m in \u001b[0;36m_input_request\u001b[0;34m(self, prompt, ident, parent, password)\u001b[0m\n\u001b[1;32m    893\u001b[0m             \u001b[0;32mexcept\u001b[0m \u001b[0mKeyboardInterrupt\u001b[0m\u001b[0;34m:\u001b[0m\u001b[0;34m\u001b[0m\u001b[0;34m\u001b[0m\u001b[0m\n\u001b[1;32m    894\u001b[0m                 \u001b[0;31m# re-raise KeyboardInterrupt, to truncate traceback\u001b[0m\u001b[0;34m\u001b[0m\u001b[0;34m\u001b[0m\u001b[0m\n\u001b[0;32m--> 895\u001b[0;31m                 \u001b[0;32mraise\u001b[0m \u001b[0mKeyboardInterrupt\u001b[0m\u001b[0;34m(\u001b[0m\u001b[0;34m\"Interrupted by user\"\u001b[0m\u001b[0;34m)\u001b[0m \u001b[0;32mfrom\u001b[0m \u001b[0;32mNone\u001b[0m\u001b[0;34m\u001b[0m\u001b[0;34m\u001b[0m\u001b[0m\n\u001b[0m\u001b[1;32m    896\u001b[0m             \u001b[0;32mexcept\u001b[0m \u001b[0mException\u001b[0m \u001b[0;32mas\u001b[0m \u001b[0me\u001b[0m\u001b[0;34m:\u001b[0m\u001b[0;34m\u001b[0m\u001b[0;34m\u001b[0m\u001b[0m\n\u001b[1;32m    897\u001b[0m                 \u001b[0mself\u001b[0m\u001b[0;34m.\u001b[0m\u001b[0mlog\u001b[0m\u001b[0;34m.\u001b[0m\u001b[0mwarning\u001b[0m\u001b[0;34m(\u001b[0m\u001b[0;34m\"Invalid Message:\"\u001b[0m\u001b[0;34m,\u001b[0m \u001b[0mexc_info\u001b[0m\u001b[0;34m=\u001b[0m\u001b[0;32mTrue\u001b[0m\u001b[0;34m)\u001b[0m\u001b[0;34m\u001b[0m\u001b[0;34m\u001b[0m\u001b[0m\n",
            "\u001b[0;31mKeyboardInterrupt\u001b[0m: Interrupted by user"
          ]
        }
      ],
      "source": [
        "import random\n",
        "\n",
        "powerbool = [0, 1]\n",
        "choicePower = random.choice(powerbool)\n",
        "# power on or off\n",
        "\n",
        "randomCh = list(range(1, 100))\n",
        "currentCh = random.choice(randomCh)\n",
        "currentCh = int(currentCh)\n",
        "# current channel random\n",
        "\n",
        "randomVol = list(range(1, 100))\n",
        "currentVol = random.choice(randomVol)\n",
        "currentVol = int(currentVol)\n",
        "# current volume random\n",
        "\n",
        "usecon = 0\n",
        "# remote controller\n",
        "\n",
        "def controller(usecon):\n",
        "    targetCh = int(input(\"채널 이동([0] 입력시 전원 종료) : \"))\n",
        "    if targetCh < 0 or targetCh > 100:\n",
        "      changeerror()\n",
        "    elif targetCh == 0:\n",
        "      print(\"Good Bye\")\n",
        "    else:\n",
        "      targetVol = int(input(\"음량 변경 : \"))\n",
        "      if targetVol < 0 or targetVol > 100:\n",
        "        changeerror()\n",
        "      else:\n",
        "        changeChVol(targetCh, currentCh, targetVol, currentVol)\n",
        "    usecon = 0\n",
        "    return\n",
        "# target value input\n",
        "\n",
        "def controlstart(usecon):\n",
        "  while usecon != 5:\n",
        "    usecon = int(input(\"press [5] to use remote controller \"))\n",
        "  else:\n",
        "    controller(usecon)\n",
        "# remote controller active\n",
        "\n",
        "def changeChVol(targetCh, currentCh, targetVol, currentVol):\n",
        "  if targetCh < currentCh:\n",
        "    while targetCh != currentCh:\n",
        "      currentCh = currentCh - 1\n",
        "  elif targetCh > currentCh:\n",
        "    while targetCh != currentCh:\n",
        "      currentCh = currentCh + 1\n",
        "  if targetVol < currentVol:\n",
        "    while targetVol != currentVol:\n",
        "      currentVol = currentVol - 1\n",
        "  elif targetVol > currentVol:\n",
        "    while targetVol != currentVol:\n",
        "      currentVol = currentVol + 1\n",
        "  print(\"현재채널 : \", currentCh)\n",
        "  print(\"현재음량 : \", currentVol)\n",
        "  controlstart(usecon)\n",
        "# channel, volume changing\n",
        "\n",
        "def changeerror():\n",
        "    print(\"잘못된 입력입니다.\")\n",
        "    print(\"알맞은 채널과 음량 값을 입력해 주십시오.\")\n",
        "    print(\"지원 채널 ch.1 ~ ch.100\")\n",
        "    print(\"최대음량 100\")\n",
        "    controlstart(usecon)\n",
        "# error\n",
        "\n",
        "if choicePower == 1:\n",
        "  power = 1\n",
        "else:\n",
        "  print(\"전원이 꺼져있습니다.\")\n",
        "  power = int(input(\"press [1] to turn on the Power \"))\n",
        "  if power == 1:\n",
        "    print(\"Welcome\")\n",
        "# power boolean\n",
        "\n",
        "while power != 1:\n",
        "  print(\"전원이 꺼져있습니다.\")\n",
        "  power = int(input(\"Press [1] to turn on the Power \"))\n",
        "  if power == 1:\n",
        "    print(\"Welcome\")\n",
        "else:\n",
        "  print(\"현재채널 : \", currentCh)\n",
        "  print(\"현재음량 : \", currentVol)\n",
        "  controlstart(usecon)\n",
        "# after power on\n",
        "\n"
      ]
    }
  ]
}